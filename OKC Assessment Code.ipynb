{
 "cells": [
  {
   "cell_type": "code",
   "execution_count": 179,
   "metadata": {},
   "outputs": [],
   "source": [
    "import pandas as pd"
   ]
  },
  {
   "cell_type": "code",
   "execution_count": 180,
   "metadata": {
    "scrolled": true
   },
   "outputs": [
    {
     "data": {
      "text/html": [
       "<div>\n",
       "<style scoped>\n",
       "    .dataframe tbody tr th:only-of-type {\n",
       "        vertical-align: middle;\n",
       "    }\n",
       "\n",
       "    .dataframe tbody tr th {\n",
       "        vertical-align: top;\n",
       "    }\n",
       "\n",
       "    .dataframe thead th {\n",
       "        text-align: right;\n",
       "    }\n",
       "</style>\n",
       "<table border=\"1\" class=\"dataframe\">\n",
       "  <thead>\n",
       "    <tr style=\"text-align: right;\">\n",
       "      <th></th>\n",
       "      <th>team</th>\n",
       "      <th>x</th>\n",
       "      <th>y</th>\n",
       "      <th>fgmade</th>\n",
       "    </tr>\n",
       "  </thead>\n",
       "  <tbody>\n",
       "    <tr>\n",
       "      <th>0</th>\n",
       "      <td>Team A</td>\n",
       "      <td>-23.1</td>\n",
       "      <td>3.5</td>\n",
       "      <td>0</td>\n",
       "    </tr>\n",
       "    <tr>\n",
       "      <th>1</th>\n",
       "      <td>Team A</td>\n",
       "      <td>0.0</td>\n",
       "      <td>25.1</td>\n",
       "      <td>1</td>\n",
       "    </tr>\n",
       "    <tr>\n",
       "      <th>2</th>\n",
       "      <td>Team A</td>\n",
       "      <td>0.5</td>\n",
       "      <td>1.0</td>\n",
       "      <td>1</td>\n",
       "    </tr>\n",
       "    <tr>\n",
       "      <th>3</th>\n",
       "      <td>Team A</td>\n",
       "      <td>-5.6</td>\n",
       "      <td>5.2</td>\n",
       "      <td>0</td>\n",
       "    </tr>\n",
       "    <tr>\n",
       "      <th>4</th>\n",
       "      <td>Team A</td>\n",
       "      <td>4.0</td>\n",
       "      <td>14.5</td>\n",
       "      <td>1</td>\n",
       "    </tr>\n",
       "    <tr>\n",
       "      <th>...</th>\n",
       "      <td>...</td>\n",
       "      <td>...</td>\n",
       "      <td>...</td>\n",
       "      <td>...</td>\n",
       "    </tr>\n",
       "    <tr>\n",
       "      <th>555</th>\n",
       "      <td>Team B</td>\n",
       "      <td>7.8</td>\n",
       "      <td>24.7</td>\n",
       "      <td>0</td>\n",
       "    </tr>\n",
       "    <tr>\n",
       "      <th>556</th>\n",
       "      <td>Team B</td>\n",
       "      <td>10.1</td>\n",
       "      <td>1.4</td>\n",
       "      <td>1</td>\n",
       "    </tr>\n",
       "    <tr>\n",
       "      <th>557</th>\n",
       "      <td>Team B</td>\n",
       "      <td>-17.8</td>\n",
       "      <td>-0.1</td>\n",
       "      <td>0</td>\n",
       "    </tr>\n",
       "    <tr>\n",
       "      <th>558</th>\n",
       "      <td>Team B</td>\n",
       "      <td>22.6</td>\n",
       "      <td>2.9</td>\n",
       "      <td>0</td>\n",
       "    </tr>\n",
       "    <tr>\n",
       "      <th>559</th>\n",
       "      <td>Team B</td>\n",
       "      <td>-0.7</td>\n",
       "      <td>14.7</td>\n",
       "      <td>1</td>\n",
       "    </tr>\n",
       "  </tbody>\n",
       "</table>\n",
       "<p>560 rows × 4 columns</p>\n",
       "</div>"
      ],
      "text/plain": [
       "       team     x     y  fgmade\n",
       "0    Team A -23.1   3.5       0\n",
       "1    Team A   0.0  25.1       1\n",
       "2    Team A   0.5   1.0       1\n",
       "3    Team A  -5.6   5.2       0\n",
       "4    Team A   4.0  14.5       1\n",
       "..      ...   ...   ...     ...\n",
       "555  Team B   7.8  24.7       0\n",
       "556  Team B  10.1   1.4       1\n",
       "557  Team B -17.8  -0.1       0\n",
       "558  Team B  22.6   2.9       0\n",
       "559  Team B  -0.7  14.7       1\n",
       "\n",
       "[560 rows x 4 columns]"
      ]
     },
     "execution_count": 180,
     "metadata": {},
     "output_type": "execute_result"
    }
   ],
   "source": [
    "df = pd.read_csv(\"shots_data.csv\")\n",
    "df"
   ]
  },
  {
   "cell_type": "code",
   "execution_count": 181,
   "metadata": {},
   "outputs": [],
   "source": [
    "df['hypotenuse_sqd'] = (df['x'] * df['x']) + (df['y'] * df['y'])\n",
    "df['abs'] = abs(df['x'])"
   ]
  },
  {
   "cell_type": "code",
   "execution_count": 182,
   "metadata": {
    "scrolled": true
   },
   "outputs": [],
   "source": [
    "twopt1 = df.loc[(df['hypotenuse_sqd'] <= (23.75 * 23.75)) & (df['y'] > 7.8)]\n",
    "twopt2 = df.loc[(df['abs'] <= 22) & (df['y'] <= 7.8)]"
   ]
  },
  {
   "cell_type": "code",
   "execution_count": 183,
   "metadata": {},
   "outputs": [
    {
     "data": {
      "text/html": [
       "<div>\n",
       "<style scoped>\n",
       "    .dataframe tbody tr th:only-of-type {\n",
       "        vertical-align: middle;\n",
       "    }\n",
       "\n",
       "    .dataframe tbody tr th {\n",
       "        vertical-align: top;\n",
       "    }\n",
       "\n",
       "    .dataframe thead th {\n",
       "        text-align: right;\n",
       "    }\n",
       "</style>\n",
       "<table border=\"1\" class=\"dataframe\">\n",
       "  <thead>\n",
       "    <tr style=\"text-align: right;\">\n",
       "      <th></th>\n",
       "      <th>team</th>\n",
       "      <th>x</th>\n",
       "      <th>y</th>\n",
       "      <th>fgmade</th>\n",
       "      <th>hypotenuse_sqd</th>\n",
       "      <th>abs</th>\n",
       "    </tr>\n",
       "  </thead>\n",
       "  <tbody>\n",
       "    <tr>\n",
       "      <th>0</th>\n",
       "      <td>Team A</td>\n",
       "      <td>4.0</td>\n",
       "      <td>14.5</td>\n",
       "      <td>1</td>\n",
       "      <td>226.25</td>\n",
       "      <td>4.0</td>\n",
       "    </tr>\n",
       "    <tr>\n",
       "      <th>1</th>\n",
       "      <td>Team A</td>\n",
       "      <td>-9.2</td>\n",
       "      <td>15.3</td>\n",
       "      <td>0</td>\n",
       "      <td>318.73</td>\n",
       "      <td>9.2</td>\n",
       "    </tr>\n",
       "    <tr>\n",
       "      <th>2</th>\n",
       "      <td>Team A</td>\n",
       "      <td>11.2</td>\n",
       "      <td>10.3</td>\n",
       "      <td>0</td>\n",
       "      <td>231.53</td>\n",
       "      <td>11.2</td>\n",
       "    </tr>\n",
       "    <tr>\n",
       "      <th>3</th>\n",
       "      <td>Team A</td>\n",
       "      <td>-13.6</td>\n",
       "      <td>10.1</td>\n",
       "      <td>1</td>\n",
       "      <td>286.97</td>\n",
       "      <td>13.6</td>\n",
       "    </tr>\n",
       "    <tr>\n",
       "      <th>4</th>\n",
       "      <td>Team A</td>\n",
       "      <td>-11.7</td>\n",
       "      <td>12.1</td>\n",
       "      <td>0</td>\n",
       "      <td>283.30</td>\n",
       "      <td>11.7</td>\n",
       "    </tr>\n",
       "    <tr>\n",
       "      <th>...</th>\n",
       "      <td>...</td>\n",
       "      <td>...</td>\n",
       "      <td>...</td>\n",
       "      <td>...</td>\n",
       "      <td>...</td>\n",
       "      <td>...</td>\n",
       "    </tr>\n",
       "    <tr>\n",
       "      <th>328</th>\n",
       "      <td>Team B</td>\n",
       "      <td>11.1</td>\n",
       "      <td>3.3</td>\n",
       "      <td>1</td>\n",
       "      <td>134.10</td>\n",
       "      <td>11.1</td>\n",
       "    </tr>\n",
       "    <tr>\n",
       "      <th>329</th>\n",
       "      <td>Team B</td>\n",
       "      <td>8.4</td>\n",
       "      <td>5.7</td>\n",
       "      <td>0</td>\n",
       "      <td>103.05</td>\n",
       "      <td>8.4</td>\n",
       "    </tr>\n",
       "    <tr>\n",
       "      <th>330</th>\n",
       "      <td>Team B</td>\n",
       "      <td>1.1</td>\n",
       "      <td>2.3</td>\n",
       "      <td>1</td>\n",
       "      <td>6.50</td>\n",
       "      <td>1.1</td>\n",
       "    </tr>\n",
       "    <tr>\n",
       "      <th>331</th>\n",
       "      <td>Team B</td>\n",
       "      <td>10.1</td>\n",
       "      <td>1.4</td>\n",
       "      <td>1</td>\n",
       "      <td>103.97</td>\n",
       "      <td>10.1</td>\n",
       "    </tr>\n",
       "    <tr>\n",
       "      <th>332</th>\n",
       "      <td>Team B</td>\n",
       "      <td>-17.8</td>\n",
       "      <td>-0.1</td>\n",
       "      <td>0</td>\n",
       "      <td>316.85</td>\n",
       "      <td>17.8</td>\n",
       "    </tr>\n",
       "  </tbody>\n",
       "</table>\n",
       "<p>333 rows × 6 columns</p>\n",
       "</div>"
      ],
      "text/plain": [
       "       team     x     y  fgmade  hypotenuse_sqd   abs\n",
       "0    Team A   4.0  14.5       1          226.25   4.0\n",
       "1    Team A  -9.2  15.3       0          318.73   9.2\n",
       "2    Team A  11.2  10.3       0          231.53  11.2\n",
       "3    Team A -13.6  10.1       1          286.97  13.6\n",
       "4    Team A -11.7  12.1       0          283.30  11.7\n",
       "..      ...   ...   ...     ...             ...   ...\n",
       "328  Team B  11.1   3.3       1          134.10  11.1\n",
       "329  Team B   8.4   5.7       0          103.05   8.4\n",
       "330  Team B   1.1   2.3       1            6.50   1.1\n",
       "331  Team B  10.1   1.4       1          103.97  10.1\n",
       "332  Team B -17.8  -0.1       0          316.85  17.8\n",
       "\n",
       "[333 rows x 6 columns]"
      ]
     },
     "execution_count": 183,
     "metadata": {},
     "output_type": "execute_result"
    }
   ],
   "source": [
    "twopt_final = pd.concat([twopt1,twopt2]).reset_index(drop=True)\n",
    "\n",
    "twopt_final\n",
    "\n",
    "# Did not drop duplicates as the same shot may have been attempted more than once, reset index to prevent gaps and errors in\n",
    "# future work with the two point shot dataframe."
   ]
  },
  {
   "cell_type": "code",
   "execution_count": 184,
   "metadata": {},
   "outputs": [
    {
     "data": {
      "text/html": [
       "<div>\n",
       "<style scoped>\n",
       "    .dataframe tbody tr th:only-of-type {\n",
       "        vertical-align: middle;\n",
       "    }\n",
       "\n",
       "    .dataframe tbody tr th {\n",
       "        vertical-align: top;\n",
       "    }\n",
       "\n",
       "    .dataframe thead th {\n",
       "        text-align: right;\n",
       "    }\n",
       "</style>\n",
       "<table border=\"1\" class=\"dataframe\">\n",
       "  <thead>\n",
       "    <tr style=\"text-align: right;\">\n",
       "      <th></th>\n",
       "      <th>team</th>\n",
       "      <th>x</th>\n",
       "      <th>y</th>\n",
       "      <th>fgmade</th>\n",
       "      <th>hypotenuse_sqd</th>\n",
       "      <th>abs</th>\n",
       "    </tr>\n",
       "  </thead>\n",
       "  <tbody>\n",
       "    <tr>\n",
       "      <th>0</th>\n",
       "      <td>Team A</td>\n",
       "      <td>-23.1</td>\n",
       "      <td>3.5</td>\n",
       "      <td>0</td>\n",
       "      <td>545.86</td>\n",
       "      <td>23.1</td>\n",
       "    </tr>\n",
       "    <tr>\n",
       "      <th>11</th>\n",
       "      <td>Team A</td>\n",
       "      <td>22.3</td>\n",
       "      <td>3.5</td>\n",
       "      <td>0</td>\n",
       "      <td>509.54</td>\n",
       "      <td>22.3</td>\n",
       "    </tr>\n",
       "    <tr>\n",
       "      <th>22</th>\n",
       "      <td>Team A</td>\n",
       "      <td>22.5</td>\n",
       "      <td>1.8</td>\n",
       "      <td>1</td>\n",
       "      <td>509.49</td>\n",
       "      <td>22.5</td>\n",
       "    </tr>\n",
       "    <tr>\n",
       "      <th>24</th>\n",
       "      <td>Team A</td>\n",
       "      <td>23.5</td>\n",
       "      <td>2.4</td>\n",
       "      <td>0</td>\n",
       "      <td>558.01</td>\n",
       "      <td>23.5</td>\n",
       "    </tr>\n",
       "    <tr>\n",
       "      <th>92</th>\n",
       "      <td>Team A</td>\n",
       "      <td>22.8</td>\n",
       "      <td>3.6</td>\n",
       "      <td>1</td>\n",
       "      <td>532.80</td>\n",
       "      <td>22.8</td>\n",
       "    </tr>\n",
       "    <tr>\n",
       "      <th>96</th>\n",
       "      <td>Team A</td>\n",
       "      <td>-22.9</td>\n",
       "      <td>2.4</td>\n",
       "      <td>0</td>\n",
       "      <td>530.17</td>\n",
       "      <td>22.9</td>\n",
       "    </tr>\n",
       "    <tr>\n",
       "      <th>171</th>\n",
       "      <td>Team A</td>\n",
       "      <td>22.6</td>\n",
       "      <td>4.0</td>\n",
       "      <td>0</td>\n",
       "      <td>526.76</td>\n",
       "      <td>22.6</td>\n",
       "    </tr>\n",
       "    <tr>\n",
       "      <th>185</th>\n",
       "      <td>Team A</td>\n",
       "      <td>23.0</td>\n",
       "      <td>2.2</td>\n",
       "      <td>0</td>\n",
       "      <td>533.84</td>\n",
       "      <td>23.0</td>\n",
       "    </tr>\n",
       "    <tr>\n",
       "      <th>205</th>\n",
       "      <td>Team A</td>\n",
       "      <td>-23.4</td>\n",
       "      <td>0.9</td>\n",
       "      <td>1</td>\n",
       "      <td>548.37</td>\n",
       "      <td>23.4</td>\n",
       "    </tr>\n",
       "    <tr>\n",
       "      <th>223</th>\n",
       "      <td>Team A</td>\n",
       "      <td>22.9</td>\n",
       "      <td>6.1</td>\n",
       "      <td>1</td>\n",
       "      <td>561.62</td>\n",
       "      <td>22.9</td>\n",
       "    </tr>\n",
       "    <tr>\n",
       "      <th>229</th>\n",
       "      <td>Team A</td>\n",
       "      <td>-23.4</td>\n",
       "      <td>4.2</td>\n",
       "      <td>0</td>\n",
       "      <td>565.20</td>\n",
       "      <td>23.4</td>\n",
       "    </tr>\n",
       "    <tr>\n",
       "      <th>230</th>\n",
       "      <td>Team A</td>\n",
       "      <td>23.7</td>\n",
       "      <td>3.8</td>\n",
       "      <td>1</td>\n",
       "      <td>576.13</td>\n",
       "      <td>23.7</td>\n",
       "    </tr>\n",
       "    <tr>\n",
       "      <th>232</th>\n",
       "      <td>Team A</td>\n",
       "      <td>-22.8</td>\n",
       "      <td>3.1</td>\n",
       "      <td>1</td>\n",
       "      <td>529.45</td>\n",
       "      <td>22.8</td>\n",
       "    </tr>\n",
       "    <tr>\n",
       "      <th>233</th>\n",
       "      <td>Team A</td>\n",
       "      <td>-23.0</td>\n",
       "      <td>7.6</td>\n",
       "      <td>0</td>\n",
       "      <td>586.76</td>\n",
       "      <td>23.0</td>\n",
       "    </tr>\n",
       "    <tr>\n",
       "      <th>235</th>\n",
       "      <td>Team A</td>\n",
       "      <td>22.8</td>\n",
       "      <td>-0.9</td>\n",
       "      <td>0</td>\n",
       "      <td>520.65</td>\n",
       "      <td>22.8</td>\n",
       "    </tr>\n",
       "    <tr>\n",
       "      <th>239</th>\n",
       "      <td>Team A</td>\n",
       "      <td>-23.5</td>\n",
       "      <td>3.7</td>\n",
       "      <td>0</td>\n",
       "      <td>565.94</td>\n",
       "      <td>23.5</td>\n",
       "    </tr>\n",
       "    <tr>\n",
       "      <th>242</th>\n",
       "      <td>Team A</td>\n",
       "      <td>23.4</td>\n",
       "      <td>1.8</td>\n",
       "      <td>1</td>\n",
       "      <td>550.80</td>\n",
       "      <td>23.4</td>\n",
       "    </tr>\n",
       "    <tr>\n",
       "      <th>257</th>\n",
       "      <td>Team A</td>\n",
       "      <td>-23.6</td>\n",
       "      <td>4.8</td>\n",
       "      <td>0</td>\n",
       "      <td>580.00</td>\n",
       "      <td>23.6</td>\n",
       "    </tr>\n",
       "    <tr>\n",
       "      <th>272</th>\n",
       "      <td>Team A</td>\n",
       "      <td>-23.3</td>\n",
       "      <td>1.7</td>\n",
       "      <td>0</td>\n",
       "      <td>545.78</td>\n",
       "      <td>23.3</td>\n",
       "    </tr>\n",
       "    <tr>\n",
       "      <th>275</th>\n",
       "      <td>Team A</td>\n",
       "      <td>23.0</td>\n",
       "      <td>4.7</td>\n",
       "      <td>1</td>\n",
       "      <td>551.09</td>\n",
       "      <td>23.0</td>\n",
       "    </tr>\n",
       "    <tr>\n",
       "      <th>298</th>\n",
       "      <td>Team B</td>\n",
       "      <td>-22.3</td>\n",
       "      <td>2.6</td>\n",
       "      <td>1</td>\n",
       "      <td>504.05</td>\n",
       "      <td>22.3</td>\n",
       "    </tr>\n",
       "    <tr>\n",
       "      <th>307</th>\n",
       "      <td>Team B</td>\n",
       "      <td>-23.1</td>\n",
       "      <td>2.9</td>\n",
       "      <td>0</td>\n",
       "      <td>542.02</td>\n",
       "      <td>23.1</td>\n",
       "    </tr>\n",
       "    <tr>\n",
       "      <th>312</th>\n",
       "      <td>Team B</td>\n",
       "      <td>22.8</td>\n",
       "      <td>1.1</td>\n",
       "      <td>0</td>\n",
       "      <td>521.05</td>\n",
       "      <td>22.8</td>\n",
       "    </tr>\n",
       "    <tr>\n",
       "      <th>345</th>\n",
       "      <td>Team B</td>\n",
       "      <td>-23.4</td>\n",
       "      <td>7.1</td>\n",
       "      <td>0</td>\n",
       "      <td>597.97</td>\n",
       "      <td>23.4</td>\n",
       "    </tr>\n",
       "    <tr>\n",
       "      <th>351</th>\n",
       "      <td>Team B</td>\n",
       "      <td>22.6</td>\n",
       "      <td>2.8</td>\n",
       "      <td>1</td>\n",
       "      <td>518.60</td>\n",
       "      <td>22.6</td>\n",
       "    </tr>\n",
       "    <tr>\n",
       "      <th>357</th>\n",
       "      <td>Team B</td>\n",
       "      <td>23.8</td>\n",
       "      <td>-1.2</td>\n",
       "      <td>1</td>\n",
       "      <td>567.88</td>\n",
       "      <td>23.8</td>\n",
       "    </tr>\n",
       "    <tr>\n",
       "      <th>384</th>\n",
       "      <td>Team B</td>\n",
       "      <td>-22.8</td>\n",
       "      <td>1.9</td>\n",
       "      <td>0</td>\n",
       "      <td>523.45</td>\n",
       "      <td>22.8</td>\n",
       "    </tr>\n",
       "    <tr>\n",
       "      <th>393</th>\n",
       "      <td>Team B</td>\n",
       "      <td>23.1</td>\n",
       "      <td>-0.1</td>\n",
       "      <td>0</td>\n",
       "      <td>533.62</td>\n",
       "      <td>23.1</td>\n",
       "    </tr>\n",
       "    <tr>\n",
       "      <th>434</th>\n",
       "      <td>Team B</td>\n",
       "      <td>-23.0</td>\n",
       "      <td>0.0</td>\n",
       "      <td>0</td>\n",
       "      <td>529.00</td>\n",
       "      <td>23.0</td>\n",
       "    </tr>\n",
       "    <tr>\n",
       "      <th>440</th>\n",
       "      <td>Team B</td>\n",
       "      <td>22.7</td>\n",
       "      <td>0.9</td>\n",
       "      <td>0</td>\n",
       "      <td>516.10</td>\n",
       "      <td>22.7</td>\n",
       "    </tr>\n",
       "    <tr>\n",
       "      <th>461</th>\n",
       "      <td>Team B</td>\n",
       "      <td>23.7</td>\n",
       "      <td>0.9</td>\n",
       "      <td>0</td>\n",
       "      <td>562.50</td>\n",
       "      <td>23.7</td>\n",
       "    </tr>\n",
       "    <tr>\n",
       "      <th>463</th>\n",
       "      <td>Team B</td>\n",
       "      <td>22.8</td>\n",
       "      <td>3.3</td>\n",
       "      <td>0</td>\n",
       "      <td>530.73</td>\n",
       "      <td>22.8</td>\n",
       "    </tr>\n",
       "    <tr>\n",
       "      <th>470</th>\n",
       "      <td>Team B</td>\n",
       "      <td>-22.6</td>\n",
       "      <td>2.5</td>\n",
       "      <td>0</td>\n",
       "      <td>517.01</td>\n",
       "      <td>22.6</td>\n",
       "    </tr>\n",
       "    <tr>\n",
       "      <th>472</th>\n",
       "      <td>Team B</td>\n",
       "      <td>23.2</td>\n",
       "      <td>2.0</td>\n",
       "      <td>0</td>\n",
       "      <td>542.24</td>\n",
       "      <td>23.2</td>\n",
       "    </tr>\n",
       "    <tr>\n",
       "      <th>473</th>\n",
       "      <td>Team B</td>\n",
       "      <td>23.1</td>\n",
       "      <td>2.9</td>\n",
       "      <td>1</td>\n",
       "      <td>542.02</td>\n",
       "      <td>23.1</td>\n",
       "    </tr>\n",
       "    <tr>\n",
       "      <th>477</th>\n",
       "      <td>Team B</td>\n",
       "      <td>-22.8</td>\n",
       "      <td>0.8</td>\n",
       "      <td>1</td>\n",
       "      <td>520.48</td>\n",
       "      <td>22.8</td>\n",
       "    </tr>\n",
       "    <tr>\n",
       "      <th>508</th>\n",
       "      <td>Team B</td>\n",
       "      <td>-22.9</td>\n",
       "      <td>-1.5</td>\n",
       "      <td>0</td>\n",
       "      <td>526.66</td>\n",
       "      <td>22.9</td>\n",
       "    </tr>\n",
       "    <tr>\n",
       "      <th>537</th>\n",
       "      <td>Team B</td>\n",
       "      <td>23.6</td>\n",
       "      <td>6.3</td>\n",
       "      <td>0</td>\n",
       "      <td>596.65</td>\n",
       "      <td>23.6</td>\n",
       "    </tr>\n",
       "    <tr>\n",
       "      <th>544</th>\n",
       "      <td>Team B</td>\n",
       "      <td>22.6</td>\n",
       "      <td>2.2</td>\n",
       "      <td>0</td>\n",
       "      <td>515.60</td>\n",
       "      <td>22.6</td>\n",
       "    </tr>\n",
       "    <tr>\n",
       "      <th>547</th>\n",
       "      <td>Team B</td>\n",
       "      <td>-23.0</td>\n",
       "      <td>-0.6</td>\n",
       "      <td>0</td>\n",
       "      <td>529.36</td>\n",
       "      <td>23.0</td>\n",
       "    </tr>\n",
       "    <tr>\n",
       "      <th>558</th>\n",
       "      <td>Team B</td>\n",
       "      <td>22.6</td>\n",
       "      <td>2.9</td>\n",
       "      <td>0</td>\n",
       "      <td>519.17</td>\n",
       "      <td>22.6</td>\n",
       "    </tr>\n",
       "  </tbody>\n",
       "</table>\n",
       "</div>"
      ],
      "text/plain": [
       "       team     x    y  fgmade  hypotenuse_sqd   abs\n",
       "0    Team A -23.1  3.5       0          545.86  23.1\n",
       "11   Team A  22.3  3.5       0          509.54  22.3\n",
       "22   Team A  22.5  1.8       1          509.49  22.5\n",
       "24   Team A  23.5  2.4       0          558.01  23.5\n",
       "92   Team A  22.8  3.6       1          532.80  22.8\n",
       "96   Team A -22.9  2.4       0          530.17  22.9\n",
       "171  Team A  22.6  4.0       0          526.76  22.6\n",
       "185  Team A  23.0  2.2       0          533.84  23.0\n",
       "205  Team A -23.4  0.9       1          548.37  23.4\n",
       "223  Team A  22.9  6.1       1          561.62  22.9\n",
       "229  Team A -23.4  4.2       0          565.20  23.4\n",
       "230  Team A  23.7  3.8       1          576.13  23.7\n",
       "232  Team A -22.8  3.1       1          529.45  22.8\n",
       "233  Team A -23.0  7.6       0          586.76  23.0\n",
       "235  Team A  22.8 -0.9       0          520.65  22.8\n",
       "239  Team A -23.5  3.7       0          565.94  23.5\n",
       "242  Team A  23.4  1.8       1          550.80  23.4\n",
       "257  Team A -23.6  4.8       0          580.00  23.6\n",
       "272  Team A -23.3  1.7       0          545.78  23.3\n",
       "275  Team A  23.0  4.7       1          551.09  23.0\n",
       "298  Team B -22.3  2.6       1          504.05  22.3\n",
       "307  Team B -23.1  2.9       0          542.02  23.1\n",
       "312  Team B  22.8  1.1       0          521.05  22.8\n",
       "345  Team B -23.4  7.1       0          597.97  23.4\n",
       "351  Team B  22.6  2.8       1          518.60  22.6\n",
       "357  Team B  23.8 -1.2       1          567.88  23.8\n",
       "384  Team B -22.8  1.9       0          523.45  22.8\n",
       "393  Team B  23.1 -0.1       0          533.62  23.1\n",
       "434  Team B -23.0  0.0       0          529.00  23.0\n",
       "440  Team B  22.7  0.9       0          516.10  22.7\n",
       "461  Team B  23.7  0.9       0          562.50  23.7\n",
       "463  Team B  22.8  3.3       0          530.73  22.8\n",
       "470  Team B -22.6  2.5       0          517.01  22.6\n",
       "472  Team B  23.2  2.0       0          542.24  23.2\n",
       "473  Team B  23.1  2.9       1          542.02  23.1\n",
       "477  Team B -22.8  0.8       1          520.48  22.8\n",
       "508  Team B -22.9 -1.5       0          526.66  22.9\n",
       "537  Team B  23.6  6.3       0          596.65  23.6\n",
       "544  Team B  22.6  2.2       0          515.60  22.6\n",
       "547  Team B -23.0 -0.6       0          529.36  23.0\n",
       "558  Team B  22.6  2.9       0          519.17  22.6"
      ]
     },
     "execution_count": 184,
     "metadata": {},
     "output_type": "execute_result"
    }
   ],
   "source": [
    "corner_three = df.loc[(df['abs'] > 22) & (df['y'] <= 7.8)]\n",
    "\n",
    "corner_three"
   ]
  },
  {
   "cell_type": "code",
   "execution_count": 185,
   "metadata": {},
   "outputs": [
    {
     "data": {
      "text/html": [
       "<div>\n",
       "<style scoped>\n",
       "    .dataframe tbody tr th:only-of-type {\n",
       "        vertical-align: middle;\n",
       "    }\n",
       "\n",
       "    .dataframe tbody tr th {\n",
       "        vertical-align: top;\n",
       "    }\n",
       "\n",
       "    .dataframe thead th {\n",
       "        text-align: right;\n",
       "    }\n",
       "</style>\n",
       "<table border=\"1\" class=\"dataframe\">\n",
       "  <thead>\n",
       "    <tr style=\"text-align: right;\">\n",
       "      <th></th>\n",
       "      <th>team</th>\n",
       "      <th>x</th>\n",
       "      <th>y</th>\n",
       "      <th>fgmade</th>\n",
       "      <th>hypotenuse_sqd</th>\n",
       "      <th>abs</th>\n",
       "    </tr>\n",
       "  </thead>\n",
       "  <tbody>\n",
       "    <tr>\n",
       "      <th>1</th>\n",
       "      <td>Team A</td>\n",
       "      <td>0.0</td>\n",
       "      <td>25.1</td>\n",
       "      <td>1</td>\n",
       "      <td>630.01</td>\n",
       "      <td>0.0</td>\n",
       "    </tr>\n",
       "    <tr>\n",
       "      <th>9</th>\n",
       "      <td>Team A</td>\n",
       "      <td>-16.8</td>\n",
       "      <td>20.5</td>\n",
       "      <td>1</td>\n",
       "      <td>702.49</td>\n",
       "      <td>16.8</td>\n",
       "    </tr>\n",
       "    <tr>\n",
       "      <th>17</th>\n",
       "      <td>Team A</td>\n",
       "      <td>15.2</td>\n",
       "      <td>19.7</td>\n",
       "      <td>1</td>\n",
       "      <td>619.13</td>\n",
       "      <td>15.2</td>\n",
       "    </tr>\n",
       "    <tr>\n",
       "      <th>18</th>\n",
       "      <td>Team A</td>\n",
       "      <td>2.3</td>\n",
       "      <td>26.2</td>\n",
       "      <td>0</td>\n",
       "      <td>691.73</td>\n",
       "      <td>2.3</td>\n",
       "    </tr>\n",
       "    <tr>\n",
       "      <th>21</th>\n",
       "      <td>Team A</td>\n",
       "      <td>-16.9</td>\n",
       "      <td>19.7</td>\n",
       "      <td>0</td>\n",
       "      <td>673.70</td>\n",
       "      <td>16.9</td>\n",
       "    </tr>\n",
       "    <tr>\n",
       "      <th>...</th>\n",
       "      <td>...</td>\n",
       "      <td>...</td>\n",
       "      <td>...</td>\n",
       "      <td>...</td>\n",
       "      <td>...</td>\n",
       "      <td>...</td>\n",
       "    </tr>\n",
       "    <tr>\n",
       "      <th>541</th>\n",
       "      <td>Team B</td>\n",
       "      <td>-10.3</td>\n",
       "      <td>23.0</td>\n",
       "      <td>0</td>\n",
       "      <td>635.09</td>\n",
       "      <td>10.3</td>\n",
       "    </tr>\n",
       "    <tr>\n",
       "      <th>545</th>\n",
       "      <td>Team B</td>\n",
       "      <td>14.1</td>\n",
       "      <td>21.3</td>\n",
       "      <td>0</td>\n",
       "      <td>652.50</td>\n",
       "      <td>14.1</td>\n",
       "    </tr>\n",
       "    <tr>\n",
       "      <th>552</th>\n",
       "      <td>Team B</td>\n",
       "      <td>10.3</td>\n",
       "      <td>22.7</td>\n",
       "      <td>1</td>\n",
       "      <td>621.38</td>\n",
       "      <td>10.3</td>\n",
       "    </tr>\n",
       "    <tr>\n",
       "      <th>554</th>\n",
       "      <td>Team B</td>\n",
       "      <td>20.5</td>\n",
       "      <td>14.1</td>\n",
       "      <td>0</td>\n",
       "      <td>619.06</td>\n",
       "      <td>20.5</td>\n",
       "    </tr>\n",
       "    <tr>\n",
       "      <th>555</th>\n",
       "      <td>Team B</td>\n",
       "      <td>7.8</td>\n",
       "      <td>24.7</td>\n",
       "      <td>0</td>\n",
       "      <td>670.93</td>\n",
       "      <td>7.8</td>\n",
       "    </tr>\n",
       "  </tbody>\n",
       "</table>\n",
       "<p>186 rows × 6 columns</p>\n",
       "</div>"
      ],
      "text/plain": [
       "       team     x     y  fgmade  hypotenuse_sqd   abs\n",
       "1    Team A   0.0  25.1       1          630.01   0.0\n",
       "9    Team A -16.8  20.5       1          702.49  16.8\n",
       "17   Team A  15.2  19.7       1          619.13  15.2\n",
       "18   Team A   2.3  26.2       0          691.73   2.3\n",
       "21   Team A -16.9  19.7       0          673.70  16.9\n",
       "..      ...   ...   ...     ...             ...   ...\n",
       "541  Team B -10.3  23.0       0          635.09  10.3\n",
       "545  Team B  14.1  21.3       0          652.50  14.1\n",
       "552  Team B  10.3  22.7       1          621.38  10.3\n",
       "554  Team B  20.5  14.1       0          619.06  20.5\n",
       "555  Team B   7.8  24.7       0          670.93   7.8\n",
       "\n",
       "[186 rows x 6 columns]"
      ]
     },
     "execution_count": 185,
     "metadata": {},
     "output_type": "execute_result"
    }
   ],
   "source": [
    "nc_three = df.loc[(df['hypotenuse_sqd'] > (23.75 * 23.75)) & (df['y'] > 7.8)]\n",
    "\n",
    "nc_three             "
   ]
  },
  {
   "cell_type": "code",
   "execution_count": 186,
   "metadata": {},
   "outputs": [
    {
     "data": {
      "text/plain": [
       "560"
      ]
     },
     "execution_count": 186,
     "metadata": {},
     "output_type": "execute_result"
    }
   ],
   "source": [
    "total_shots = len(df)\n",
    "total_shots\n",
    "\n",
    "# 560 Total Shots Taken"
   ]
  },
  {
   "cell_type": "code",
   "execution_count": 187,
   "metadata": {},
   "outputs": [
    {
     "data": {
      "text/html": [
       "<div>\n",
       "<style scoped>\n",
       "    .dataframe tbody tr th:only-of-type {\n",
       "        vertical-align: middle;\n",
       "    }\n",
       "\n",
       "    .dataframe tbody tr th {\n",
       "        vertical-align: top;\n",
       "    }\n",
       "\n",
       "    .dataframe thead th {\n",
       "        text-align: right;\n",
       "    }\n",
       "</style>\n",
       "<table border=\"1\" class=\"dataframe\">\n",
       "  <thead>\n",
       "    <tr style=\"text-align: right;\">\n",
       "      <th></th>\n",
       "      <th>team</th>\n",
       "      <th>x</th>\n",
       "      <th>y</th>\n",
       "      <th>fgmade</th>\n",
       "      <th>hypotenuse_sqd</th>\n",
       "      <th>abs</th>\n",
       "    </tr>\n",
       "  </thead>\n",
       "  <tbody>\n",
       "    <tr>\n",
       "      <th>0</th>\n",
       "      <td>Team A</td>\n",
       "      <td>-23.1</td>\n",
       "      <td>3.5</td>\n",
       "      <td>0</td>\n",
       "      <td>545.86</td>\n",
       "      <td>23.1</td>\n",
       "    </tr>\n",
       "    <tr>\n",
       "      <th>1</th>\n",
       "      <td>Team A</td>\n",
       "      <td>0.0</td>\n",
       "      <td>25.1</td>\n",
       "      <td>1</td>\n",
       "      <td>630.01</td>\n",
       "      <td>0.0</td>\n",
       "    </tr>\n",
       "    <tr>\n",
       "      <th>2</th>\n",
       "      <td>Team A</td>\n",
       "      <td>0.5</td>\n",
       "      <td>1.0</td>\n",
       "      <td>1</td>\n",
       "      <td>1.25</td>\n",
       "      <td>0.5</td>\n",
       "    </tr>\n",
       "    <tr>\n",
       "      <th>3</th>\n",
       "      <td>Team A</td>\n",
       "      <td>-5.6</td>\n",
       "      <td>5.2</td>\n",
       "      <td>0</td>\n",
       "      <td>58.40</td>\n",
       "      <td>5.6</td>\n",
       "    </tr>\n",
       "    <tr>\n",
       "      <th>4</th>\n",
       "      <td>Team A</td>\n",
       "      <td>4.0</td>\n",
       "      <td>14.5</td>\n",
       "      <td>1</td>\n",
       "      <td>226.25</td>\n",
       "      <td>4.0</td>\n",
       "    </tr>\n",
       "    <tr>\n",
       "      <th>...</th>\n",
       "      <td>...</td>\n",
       "      <td>...</td>\n",
       "      <td>...</td>\n",
       "      <td>...</td>\n",
       "      <td>...</td>\n",
       "      <td>...</td>\n",
       "    </tr>\n",
       "    <tr>\n",
       "      <th>275</th>\n",
       "      <td>Team A</td>\n",
       "      <td>23.0</td>\n",
       "      <td>4.7</td>\n",
       "      <td>1</td>\n",
       "      <td>551.09</td>\n",
       "      <td>23.0</td>\n",
       "    </tr>\n",
       "    <tr>\n",
       "      <th>276</th>\n",
       "      <td>Team A</td>\n",
       "      <td>-3.0</td>\n",
       "      <td>25.4</td>\n",
       "      <td>0</td>\n",
       "      <td>654.16</td>\n",
       "      <td>3.0</td>\n",
       "    </tr>\n",
       "    <tr>\n",
       "      <th>277</th>\n",
       "      <td>Team A</td>\n",
       "      <td>-8.0</td>\n",
       "      <td>2.6</td>\n",
       "      <td>1</td>\n",
       "      <td>70.76</td>\n",
       "      <td>8.0</td>\n",
       "    </tr>\n",
       "    <tr>\n",
       "      <th>278</th>\n",
       "      <td>Team A</td>\n",
       "      <td>-7.6</td>\n",
       "      <td>1.7</td>\n",
       "      <td>0</td>\n",
       "      <td>60.65</td>\n",
       "      <td>7.6</td>\n",
       "    </tr>\n",
       "    <tr>\n",
       "      <th>279</th>\n",
       "      <td>Team A</td>\n",
       "      <td>-5.5</td>\n",
       "      <td>6.2</td>\n",
       "      <td>1</td>\n",
       "      <td>68.69</td>\n",
       "      <td>5.5</td>\n",
       "    </tr>\n",
       "  </tbody>\n",
       "</table>\n",
       "<p>280 rows × 6 columns</p>\n",
       "</div>"
      ],
      "text/plain": [
       "       team     x     y  fgmade  hypotenuse_sqd   abs\n",
       "0    Team A -23.1   3.5       0          545.86  23.1\n",
       "1    Team A   0.0  25.1       1          630.01   0.0\n",
       "2    Team A   0.5   1.0       1            1.25   0.5\n",
       "3    Team A  -5.6   5.2       0           58.40   5.6\n",
       "4    Team A   4.0  14.5       1          226.25   4.0\n",
       "..      ...   ...   ...     ...             ...   ...\n",
       "275  Team A  23.0   4.7       1          551.09  23.0\n",
       "276  Team A  -3.0  25.4       0          654.16   3.0\n",
       "277  Team A  -8.0   2.6       1           70.76   8.0\n",
       "278  Team A  -7.6   1.7       0           60.65   7.6\n",
       "279  Team A  -5.5   6.2       1           68.69   5.5\n",
       "\n",
       "[280 rows x 6 columns]"
      ]
     },
     "execution_count": 187,
     "metadata": {},
     "output_type": "execute_result"
    }
   ],
   "source": [
    "a_shots = df.loc[df['team'] == \"Team A\"]\n",
    "a_shots\n",
    "\n",
    "# 280 Shots for Team A"
   ]
  },
  {
   "cell_type": "code",
   "execution_count": 188,
   "metadata": {},
   "outputs": [
    {
     "name": "stdout",
     "output_type": "stream",
     "text": [
      "170\n"
     ]
    }
   ],
   "source": [
    "a_two_pt = twopt_final.loc[twopt_final['team'] == \"Team A\"]\n",
    "print(len(a_two_pt))\n",
    "\n",
    "#170/280 total shots for Team B were 2pt shots"
   ]
  },
  {
   "cell_type": "code",
   "execution_count": 189,
   "metadata": {},
   "outputs": [
    {
     "data": {
      "text/plain": [
       "0.6071428571428571"
      ]
     },
     "execution_count": 189,
     "metadata": {},
     "output_type": "execute_result"
    }
   ],
   "source": [
    "a_twopt_share =  (170/280)\n",
    "a_twopt_share\n",
    "\n",
    "# 60.71428571428571% of shots Team A took were 2pt shots"
   ]
  },
  {
   "cell_type": "code",
   "execution_count": 190,
   "metadata": {},
   "outputs": [
    {
     "name": "stdout",
     "output_type": "stream",
     "text": [
      "20\n"
     ]
    }
   ],
   "source": [
    "a_corner_three = corner_three.loc[corner_three['team'] == \"Team A\"]\n",
    "\n",
    "print(len(a_corner_three))\n",
    "\n",
    "#20/280 total shots for Team A were corner 3pt shots"
   ]
  },
  {
   "cell_type": "code",
   "execution_count": 191,
   "metadata": {},
   "outputs": [
    {
     "data": {
      "text/plain": [
       "0.07142857142857142"
      ]
     },
     "execution_count": 191,
     "metadata": {},
     "output_type": "execute_result"
    }
   ],
   "source": [
    "a_corner_three_share =  (20/280)\n",
    "a_corner_three_share\n",
    "\n",
    "# 7.142857142857142% of shots Team A took were Corner Three Point shots"
   ]
  },
  {
   "cell_type": "code",
   "execution_count": 192,
   "metadata": {},
   "outputs": [
    {
     "name": "stdout",
     "output_type": "stream",
     "text": [
      "90\n"
     ]
    }
   ],
   "source": [
    "a_nc_three = nc_three.loc[nc_three['team'] == \"Team A\"]\n",
    "print(len(a_nc_three))\n",
    "\n",
    "#90/280 total shots for Team A were Non-Corner 3pt Shots"
   ]
  },
  {
   "cell_type": "code",
   "execution_count": 193,
   "metadata": {},
   "outputs": [
    {
     "data": {
      "text/plain": [
       "0.32142857142857145"
      ]
     },
     "execution_count": 193,
     "metadata": {},
     "output_type": "execute_result"
    }
   ],
   "source": [
    "a_nc_three_share =  (90/280)\n",
    "a_nc_three_share\n",
    "\n",
    "# 32.142857142857146% of shots Team A took were Non-Corner Three Point shots"
   ]
  },
  {
   "cell_type": "code",
   "execution_count": 194,
   "metadata": {},
   "outputs": [
    {
     "name": "stdout",
     "output_type": "stream",
     "text": [
      "280\n"
     ]
    }
   ],
   "source": [
    "b_shots = df.loc[df['team'] == \"Team B\"]\n",
    "print(len(b_shots))\n",
    "\n",
    "# 280 Shots for Team B"
   ]
  },
  {
   "cell_type": "code",
   "execution_count": 195,
   "metadata": {},
   "outputs": [
    {
     "name": "stdout",
     "output_type": "stream",
     "text": [
      "163\n"
     ]
    }
   ],
   "source": [
    "b_two_pt = twopt_final.loc[twopt_final['team'] == \"Team B\"]\n",
    "print(len(b_two_pt))\n",
    "\n",
    "#163/280 total shots for Team B were 2pt shots"
   ]
  },
  {
   "cell_type": "code",
   "execution_count": 196,
   "metadata": {},
   "outputs": [
    {
     "data": {
      "text/plain": [
       "0.5821428571428572"
      ]
     },
     "execution_count": 196,
     "metadata": {},
     "output_type": "execute_result"
    }
   ],
   "source": [
    "b_twopt_share =  (163/280)\n",
    "b_twopt_share\n",
    "\n",
    "# 58.214285714285715% of shots Team B took were 2pt shots"
   ]
  },
  {
   "cell_type": "code",
   "execution_count": 197,
   "metadata": {},
   "outputs": [
    {
     "name": "stdout",
     "output_type": "stream",
     "text": [
      "21\n"
     ]
    }
   ],
   "source": [
    "b_corner_three = corner_three.loc[corner_three['team'] == \"Team B\"]\n",
    "print(len(b_corner_three))\n",
    "\n",
    "#21/280 total shots for Team B were corner 3pt shots"
   ]
  },
  {
   "cell_type": "code",
   "execution_count": 198,
   "metadata": {},
   "outputs": [
    {
     "data": {
      "text/plain": [
       "0.075"
      ]
     },
     "execution_count": 198,
     "metadata": {},
     "output_type": "execute_result"
    }
   ],
   "source": [
    "b_corner_three_share =  (21/280)\n",
    "b_corner_three_share\n",
    "\n",
    "# 7.5% of shots Team B took were Corner Three Point shots"
   ]
  },
  {
   "cell_type": "code",
   "execution_count": 199,
   "metadata": {},
   "outputs": [
    {
     "name": "stdout",
     "output_type": "stream",
     "text": [
      "96\n"
     ]
    }
   ],
   "source": [
    "b_nc_three = nc_three.loc[nc_three['team'] == \"Team B\"]\n",
    "print(len(b_nc_three))\n",
    "\n",
    "#96/280 total shots for Team B were Non-Corner 3pt Shots"
   ]
  },
  {
   "cell_type": "code",
   "execution_count": 200,
   "metadata": {},
   "outputs": [
    {
     "data": {
      "text/plain": [
       "0.34285714285714286"
      ]
     },
     "execution_count": 200,
     "metadata": {},
     "output_type": "execute_result"
    }
   ],
   "source": [
    "b_nc_three_share =  (96/280)\n",
    "b_nc_three_share\n",
    "\n",
    "# 34.285714285714285% of shots Team B took were Non-Corner Three Point shots"
   ]
  },
  {
   "cell_type": "markdown",
   "metadata": {},
   "source": [
    "The following code relates to the EFG% Metrics from each zone for each team."
   ]
  },
  {
   "cell_type": "code",
   "execution_count": 201,
   "metadata": {},
   "outputs": [],
   "source": [
    "# Team A"
   ]
  },
  {
   "cell_type": "code",
   "execution_count": 202,
   "metadata": {},
   "outputs": [
    {
     "data": {
      "text/plain": [
       "0.4"
      ]
     },
     "execution_count": 202,
     "metadata": {},
     "output_type": "execute_result"
    }
   ],
   "source": [
    "a_two_pt_efg = sum(a_two_pt['fgmade']) / (len(a_two_pt))\n",
    "\n",
    "a_two_pt_efg"
   ]
  },
  {
   "cell_type": "code",
   "execution_count": 203,
   "metadata": {},
   "outputs": [
    {
     "data": {
      "text/plain": [
       "0.6"
      ]
     },
     "execution_count": 203,
     "metadata": {},
     "output_type": "execute_result"
    }
   ],
   "source": [
    "actm = sum(a_corner_three['fgmade'])\n",
    "\n",
    "a_corner_three_efg = (actm + (0.5 * actm)) / (len(a_corner_three))\n",
    "\n",
    "a_corner_three_efg"
   ]
  },
  {
   "cell_type": "code",
   "execution_count": 204,
   "metadata": {},
   "outputs": [
    {
     "data": {
      "text/plain": [
       "0.48333333333333334"
      ]
     },
     "execution_count": 204,
     "metadata": {},
     "output_type": "execute_result"
    }
   ],
   "source": [
    "anctm = sum(a_nc_three['fgmade'])\n",
    "a_nc_three_efg = (anctm + (0.5 * anctm)) / (len(a_nc_three))\n",
    "\n",
    "a_nc_three_efg"
   ]
  },
  {
   "cell_type": "code",
   "execution_count": 205,
   "metadata": {},
   "outputs": [],
   "source": [
    "# Team B"
   ]
  },
  {
   "cell_type": "code",
   "execution_count": 206,
   "metadata": {},
   "outputs": [
    {
     "data": {
      "text/plain": [
       "0.4601226993865031"
      ]
     },
     "execution_count": 206,
     "metadata": {},
     "output_type": "execute_result"
    }
   ],
   "source": [
    "b_two_pt_efg = sum(b_two_pt['fgmade']) / (len(b_two_pt))\n",
    "\n",
    "b_two_pt_efg"
   ]
  },
  {
   "cell_type": "code",
   "execution_count": 207,
   "metadata": {},
   "outputs": [
    {
     "data": {
      "text/plain": [
       "0.35714285714285715"
      ]
     },
     "execution_count": 207,
     "metadata": {},
     "output_type": "execute_result"
    }
   ],
   "source": [
    "bctm = sum(b_corner_three['fgmade'])\n",
    "\n",
    "b_corner_three_efg = (bctm + (0.5 * bctm)) / (len(b_corner_three))\n",
    "\n",
    "b_corner_three_efg"
   ]
  },
  {
   "cell_type": "code",
   "execution_count": 208,
   "metadata": {},
   "outputs": [
    {
     "data": {
      "text/plain": [
       "0.546875"
      ]
     },
     "execution_count": 208,
     "metadata": {},
     "output_type": "execute_result"
    }
   ],
   "source": [
    "bnctm = sum(b_nc_three['fgmade'])\n",
    "b_nc_three_efg = (bnctm + (0.5 * bnctm)) / (len(b_nc_three))\n",
    "\n",
    "b_nc_three_efg"
   ]
  }
 ],
 "metadata": {
  "kernelspec": {
   "display_name": "Python 3",
   "language": "python",
   "name": "python3"
  },
  "language_info": {
   "codemirror_mode": {
    "name": "ipython",
    "version": 3
   },
   "file_extension": ".py",
   "mimetype": "text/x-python",
   "name": "python",
   "nbconvert_exporter": "python",
   "pygments_lexer": "ipython3",
   "version": "3.8.5"
  }
 },
 "nbformat": 4,
 "nbformat_minor": 4
}
